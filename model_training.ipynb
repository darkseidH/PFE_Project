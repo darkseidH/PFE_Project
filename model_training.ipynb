{
 "cells": [
  {
   "cell_type": "code",
   "execution_count": 2,
   "id": "320b9c09-1b55-4655-ba24-07f7d246fb1e",
   "metadata": {
    "tags": []
   },
   "outputs": [],
   "source": [
    "import pandas as pd\n",
    "import numpy as np"
   ]
  },
  {
   "cell_type": "code",
   "execution_count": 3,
   "id": "9129ccbf-f94b-48c4-8815-5e5ec1fe6119",
   "metadata": {},
   "outputs": [],
   "source": [
    "df = pd.read_parquet(\"data/processed_data.parquet\")   "
   ]
  },
  {
   "cell_type": "code",
   "execution_count": 25,
   "id": "8c96ae47-4b84-4cfe-8e09-29f79f24eb1d",
   "metadata": {
    "tags": []
   },
   "outputs": [],
   "source": [
    "dt_columns = df.columns[df.columns.str.startswith(\"DT_\")].to_list()"
   ]
  },
  {
   "cell_type": "code",
   "execution_count": 26,
   "id": "8115f87d-70b2-4dcf-933e-9c46edbc26e3",
   "metadata": {
    "tags": []
   },
   "outputs": [],
   "source": [
    "cd_columns = df.columns[df.columns.str.startswith(\"CD_\")].to_list()"
   ]
  },
  {
   "cell_type": "code",
   "execution_count": 27,
   "id": "91169fb1-ea18-4116-8676-a10b6d449140",
   "metadata": {
    "tags": []
   },
   "outputs": [],
   "source": [
    "gn_columns = df.columns[df.columns.str.startswith(\"GN_\")].to_list()"
   ]
  },
  {
   "cell_type": "code",
   "execution_count": 32,
   "id": "ebadc0ff-09dc-4e70-9c42-fd47a7900fd5",
   "metadata": {
    "tags": []
   },
   "outputs": [],
   "source": [
    "fl_columns = df.columns[df.columns.str.startswith(\"FL_\")].to_list()"
   ]
  },
  {
   "cell_type": "code",
   "execution_count": 33,
   "id": "a33649b3-fda9-4ce4-9d59-33edc1bc089a",
   "metadata": {
    "tags": []
   },
   "outputs": [],
   "source": [
    "excluded_columns = set(dt_columns) | set(cd_columns) | set(gn_columns) | set(fl_columns) \n",
    "other_columns = [col for col in df.columns if col not in excluded_columns]"
   ]
  },
  {
   "cell_type": "code",
   "execution_count": 39,
   "id": "cc86fbb7-af9f-4df2-b172-5877808d0200",
   "metadata": {
    "tags": []
   },
   "outputs": [],
   "source": [
    "columns_keep = [\"DT_COMMERCIAL_ORDER_FIRST_ENTRY_DATE\",\n",
    "                \"DT_EXPECTED_DELIVERY_TO_FINAL_CUSTOMER_DATE\",\n",
    "                'CD_DATA_OWNER_LOGICAL_REGION_CODE',\n",
    " 'CD_COMMERCIAL_ORDER_CODE',\n",
    " 'CD_BRAND_CODE',\n",
    " 'CD_VEHICLE_TYPE_HOMOLOGATION_CODE',\n",
    " 'CD_VEHICLE_TYPE_HOMOLOGATION_ORIGINAL_CODE',\n",
    " 'CD_VEHICLE_CAR_LINE_CODE',\n",
    " 'CD_MODEL_CODE',\n",
    " 'CD_VEHICLE_PRODUCT_LINE_CODE',\n",
    " 'CD_VEHICLE_COMMERCIAL_FAMILY_ORIGIN_CODE',\n",
    " 'CD_VEHICLE_VERSION_CODE',\n",
    " 'CD_REGION_CODE',\n",
    " 'CD_SALES_REGION_CODE',\n",
    " 'CD_MARKET_CODE',\n",
    " 'CD_PROGRAMMING_MARKET_CODE',\n",
    " 'CD_PLANT_LOGISTIC_CODE',\n",
    " 'CD_FINAL_CUSTOMER_ORDER_CODE',\n",
    " 'CD_VEHICLE_ORDER_ORIGIN_CODE',\n",
    " 'CD_COMMERCIAL_ORDER_STATUS_CODE',\n",
    "               'GN_BRAND_ORIGINAL_NAME',\n",
    " 'GN_VEHICLE_COMPLETE_DESCRIPTION_NAME',\n",
    " 'GN_VEHICLE_CAR_LINE_NAME',\n",
    "               'GN_CUSTOMER_SALES_CHANNEL_NAME']"
   ]
  },
  {
   "cell_type": "code",
   "execution_count": 40,
   "id": "5ed66ec7-fbc4-4a75-aa59-867eff74ddee",
   "metadata": {
    "tags": []
   },
   "outputs": [
    {
     "data": {
      "text/plain": [
       "['FL_IS_FIRST_ORDER_INGESTION_FLAG',\n",
       " 'FL_IS_ORDER_ACTIVE_FLAG',\n",
       " 'FL_IS_NEW_VEHICLE_ORDER_DAMAGED_FLAG',\n",
       " 'FL_IS_NEW_VEHICLE_ORDER_IN_NETWORK_FLAG',\n",
       " 'FL_IS_NEW_VEHICLE_ORDER_IN_TRANSPORT_TO_DEALER_FLAG',\n",
       " 'FL_IS_NEW_VEHICLE_ORDER_PRODUCED_FLAG',\n",
       " 'FL_IS_NEW_VEHICLE_ORDER_STORED_FLAG',\n",
       " 'FL_IS_OWNED_NETWORK_SUBJECT_FLAG',\n",
       " 'FL_IS_FACTORY_ORDER_CODE_AVAILABLE_FLAG',\n",
       " 'FL_IS_FINAL_CUSTOMER_ORDER_ISSUED_FLAG',\n",
       " 'FL_IS_ONLINE_SALES_FLAG',\n",
       " 'FL_IS_DIRECT_SALES_FLAG',\n",
       " 'FL_IS_SALES_INVOICE_ISSUED_FLAG',\n",
       " 'FL_IS_PROPERTY_STOCK_FLAG',\n",
       " 'FL_IS_PROPERTY_STOCK_IN_TRANSIT_FLAG',\n",
       " 'FL_IS_PROPERTY_STOCK_ARRIVED_TO_SALES_MARKET_FLAG',\n",
       " 'FL_IS_NETWORK_STOCK_FLAG',\n",
       " 'FL_IS_NETWORK_STOCK_IN_TRANSIT_FLAG',\n",
       " 'FL_IS_VEHICLE_NOT_SOLD_WITH_SALES_INVOICE_FLAG',\n",
       " 'FL_IS_FACTORY_PRODUCTION_PLANNED_FLAG',\n",
       " 'FL_IS_VEHICLE_PASSED_TO_SALES_FLAG',\n",
       " 'FL_IS_VEHICLE_ORDER_IN_PLANT_FLAG',\n",
       " 'FL_IS_SHIPPED_TO_COMPOUND_FLAG',\n",
       " 'FL_IS_VEHICLE_ORDER_IN_COUNTRY_FLAG',\n",
       " 'FL_IS_CUSTOMS_OFFICE_OUTBOUND_FLAG',\n",
       " 'FL_IS_VEHICLE_ON_MARKET_COMPOUND_FLAG',\n",
       " 'FL_IS_VEHICLE_SOLD_TO_CUSTOMER_FLAG',\n",
       " 'FL_IS_VEHICLE_SOLD_FLAG',\n",
       " 'FL_IS_ANY_BLOCK_ACTIVE_FLAG',\n",
       " 'FL_IS_VEHICLE_FOR_SHOWROOM_FLAG',\n",
       " 'FL_IS_VEHICLE_FOR_DEMOSTRATION_FLAG']"
      ]
     },
     "execution_count": 40,
     "metadata": {},
     "output_type": "execute_result"
    }
   ],
   "source": [
    "fl_columns"
   ]
  }
 ],
 "metadata": {
  "kernelspec": {
   "display_name": "sagemaker-distribution:Python",
   "language": "python",
   "name": "conda-env-sagemaker-distribution-py"
  },
  "language_info": {
   "codemirror_mode": {
    "name": "ipython",
    "version": 3
   },
   "file_extension": ".py",
   "mimetype": "text/x-python",
   "name": "python",
   "nbconvert_exporter": "python",
   "pygments_lexer": "ipython3",
   "version": "3.10.14"
  }
 },
 "nbformat": 4,
 "nbformat_minor": 5
}
