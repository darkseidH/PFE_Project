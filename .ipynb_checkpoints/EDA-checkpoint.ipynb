{
 "cells": [
  {
   "cell_type": "code",
   "execution_count": null,
   "id": "d99cb0c0-cfde-4aef-9327-4d9852ec68ec",
   "metadata": {},
   "outputs": [],
   "source": [
    "import pandas as pd\n",
    "import numpy as np\n",
    "import matplotlib.pyplot as plt\n",
    "import seaborn as sns\n",
    "from datetime import datetime, timedelta\n",
    "import warnings\n",
    "warnings.filterwarnings('ignore')"
   ]
  },
  {
   "cell_type": "code",
   "execution_count": null,
   "id": "1db76401-cd22-4035-8c5a-0b1c4d13c727",
   "metadata": {},
   "outputs": [],
   "source": [
    "df = pd.read_csv('cleaned_data.csv', delimiter=',')"
   ]
  },
  {
   "cell_type": "code",
   "execution_count": null,
   "id": "df664e98-c4c1-43db-84ba-1d75252bc3be",
   "metadata": {},
   "outputs": [],
   "source": [
    "date_columns = ['DT_COMMERCIAL_ORDER_FIRST_ENTRY_DATE', 'DT_VEHICLE_FACTORY_PRODUCTION_DATE',\n",
    "               'DT_VEHICLE_PASSED_TO_SALES_DATE', 'DT_READY_TO_SHIP_FROM_LOGISTIC_PLANT_COMPOUND_DATE',\n",
    "               'DT_SHIPPING_ORDER_TO_NSC_COMPOUND_CREATION_DATE', 'DT_CUSTOMS_OFFICE_INBOUND_DATE',\n",
    "               'DT_CUSTOMS_OFFICE_OUTBOUND_DATE', 'DT_ARRIVAL_AT_DESTINATION_BY_TRANSPORTER_DATE',\n",
    "               'DT_EXPECTED_DELIVERY_TO_FINAL_CUSTOMER_DATE']"
   ]
  },
  {
   "cell_type": "code",
   "execution_count": null,
   "id": "4dbdaa07-f07f-4273-9e5d-a16bc47f7fff",
   "metadata": {},
   "outputs": [],
   "source": [
    "for col in date_columns:\n",
    "    df[col] = pd.to_datetime(df[col], errors='coerce')"
   ]
  },
  {
   "cell_type": "code",
   "execution_count": null,
   "id": "b2cab477-add4-4164-baa4-998394312192",
   "metadata": {},
   "outputs": [],
   "source": [
    "df['ORDER_YEAR'] = df['DT_COMMERCIAL_ORDER_FIRST_ENTRY_DATE'].dt.year\n",
    "df['ORDER_MONTH'] = df['DT_COMMERCIAL_ORDER_FIRST_ENTRY_DATE'].dt.month\n",
    "df['ORDER_QUARTER'] = df['DT_COMMERCIAL_ORDER_FIRST_ENTRY_DATE'].dt.quarter\n",
    "df['ORDER_WEEK'] = df['DT_COMMERCIAL_ORDER_FIRST_ENTRY_DATE'].dt.isocalendar().week\n",
    "df['ORDER_DAY_OF_YEAR'] = df['DT_COMMERCIAL_ORDER_FIRST_ENTRY_DATE'].dt.dayofyear"
   ]
  },
  {
   "cell_type": "markdown",
   "id": "2b26e9d7-4d55-4e50-acf1-7c5b72e44892",
   "metadata": {},
   "source": [
    "### === TEMPORAL PATTERNS DEEP EDA ==="
   ]
  },
  {
   "cell_type": "code",
   "execution_count": null,
   "id": "8c38a6ea-f042-47c1-a1f9-e83b33b2bebf",
   "metadata": {},
   "outputs": [],
   "source": [
    "print(\"1. DELAY TRENDS ANALYSIS\")\n",
    "print(\"=\" * 30)"
   ]
  },
  {
   "cell_type": "code",
   "execution_count": null,
   "id": "08955240-388f-44f2-9389-03d04279d0cd",
   "metadata": {},
   "outputs": [],
   "source": [
    "monthly_delays = df.groupby(['ORDER_YEAR', 'ORDER_MONTH']).agg({\n",
    "    'Is_Delayed': ['count', 'sum', 'mean'],\n",
    "    'REG_Delay_Days': ['mean', 'median', 'std']\n",
    "}).round(3)"
   ]
  },
  {
   "cell_type": "code",
   "execution_count": null,
   "id": "b71de6fd-d7b4-40a5-ae53-4df434e47ad3",
   "metadata": {},
   "outputs": [],
   "source": [
    "monthly_delays.columns"
   ]
  },
  {
   "cell_type": "code",
   "execution_count": null,
   "id": "092103b2-c983-460c-af57-3df15664d8a2",
   "metadata": {},
   "outputs": [],
   "source": [
    "print(\"\\nMonthly Delay Statistics:\")\n",
    "monthly_delays"
   ]
  },
  {
   "cell_type": "code",
   "execution_count": null,
   "id": "ff8a7461-ec9c-461b-9887-afb27fc5fcf3",
   "metadata": {},
   "outputs": [],
   "source": [
    "# Seasonal patterns\n",
    "seasonal_delays = df.groupby('ORDER_QUARTER').agg({\n",
    "    'Is_Delayed': 'mean',\n",
    "    'REG_Delay_Days': 'mean',\n",
    "    'TOTAL_LEAD_VS_EXPECTED_DAYS': 'mean'\n",
    "}).round(3)"
   ]
  },
  {
   "cell_type": "code",
   "execution_count": null,
   "id": "5ee050a8-5cfd-4793-a5ee-4bb067d00ab8",
   "metadata": {},
   "outputs": [],
   "source": [
    "print(f\"\\nSeasonal Delay Patterns:\")\n",
    "seasonal_delays"
   ]
  },
  {
   "cell_type": "code",
   "execution_count": null,
   "id": "b4553819-2be9-47a2-8caa-5260b7bf3be2",
   "metadata": {},
   "outputs": [],
   "source": [
    "dow_delays = df.groupby('ORDER_DAY_OF_WEEK').agg({\n",
    "    'Is_Delayed': ['count', 'mean'],\n",
    "    'REG_Delay_Days': 'mean'\n",
    "}).round(3)\n",
    "dow_delays.columns = ['Orders_Count', 'Delay_Rate', 'Avg_Delay_Days']"
   ]
  },
  {
   "cell_type": "code",
   "execution_count": null,
   "id": "0f12ebf1-afaf-4e78-99f8-b667cb29b099",
   "metadata": {},
   "outputs": [],
   "source": [
    "print(f\"\\nDay of Week Patterns:\")\n",
    "dow_delays"
   ]
  },
  {
   "cell_type": "code",
   "execution_count": null,
   "id": "4708d867-f426-4cae-a915-638638e0a290",
   "metadata": {},
   "outputs": [],
   "source": [
    "# 2. SUPPLY CHAIN STAGE ANALYSIS\n",
    "print(\"\\n\\n2. SUPPLY CHAIN STAGE TEMPORAL ANALYSIS\")\n",
    "print(\"=\" * 40)"
   ]
  },
  {
   "cell_type": "code",
   "execution_count": null,
   "id": "e2c20e91-49d8-41d6-837f-103ef8eda40b",
   "metadata": {},
   "outputs": [],
   "source": [
    "stage_delays = df.agg({\n",
    "    'ORDER_TO_PRODUCTION_DAYS': ['mean', 'median', 'std'],\n",
    "    'PRODUCTION_TO_SHIPPING_READY_DAYS': ['mean', 'median', 'std'],\n",
    "    'SHIPPING_READY_TO_SHIPPING_DAYS': ['mean', 'median', 'std'],\n",
    "    'SHIPPING_TRANSIT_DAYS': ['mean', 'median', 'std'],\n",
    "    'CUSTOMS_CLEARANCE_DAYS': ['mean', 'median', 'std']\n",
    "}).round(2)"
   ]
  },
  {
   "cell_type": "code",
   "execution_count": null,
   "id": "65e5c13b-eff4-4b5d-bf39-38d5888ee1cb",
   "metadata": {},
   "outputs": [],
   "source": [
    "stage_delays"
   ]
  },
  {
   "cell_type": "code",
   "execution_count": null,
   "id": "6e215356-64b2-45ef-80db-c92d470dac87",
   "metadata": {},
   "outputs": [],
   "source": [
    "print(\"Supply Chain Stage Duration Analysis:\")\n",
    "stage_delays.T"
   ]
  },
  {
   "cell_type": "code",
   "execution_count": null,
   "id": "8e767682-7b3f-448a-a43e-cc5dba7227a2",
   "metadata": {},
   "outputs": [],
   "source": [
    "monthly_stages = df.groupby(['ORDER_YEAR', 'ORDER_MONTH']).agg({\n",
    "    'ORDER_TO_PRODUCTION_DAYS': 'mean',\n",
    "    'PRODUCTION_TO_SHIPPING_READY_DAYS': 'mean', \n",
    "    'SHIPPING_READY_TO_SHIPPING_DAYS': 'mean',\n",
    "    'SHIPPING_TRANSIT_DAYS': 'mean'\n",
    "}).round(2)"
   ]
  },
  {
   "cell_type": "code",
   "execution_count": null,
   "id": "3b517036-10c0-4887-8dc6-5c44a33dc55c",
   "metadata": {},
   "outputs": [],
   "source": [
    "print(f\"\\nMonthly Stage Performance (last 5 months):\")\n",
    "monthly_stages.tail()"
   ]
  },
  {
   "cell_type": "code",
   "execution_count": null,
   "id": "f4249c74-50b9-49f1-a52c-b3e4bce139d9",
   "metadata": {},
   "outputs": [],
   "source": [
    "# 3. BRAND × MARKET TEMPORAL PATTERNS\n",
    "print(\"\\n\\n3. BRAND × MARKET TEMPORAL ANALYSIS\")\n",
    "print(\"=\" * 35)"
   ]
  },
  {
   "cell_type": "code",
   "execution_count": null,
   "id": "09e36bf0-1d4e-47fc-8869-852a82287435",
   "metadata": {},
   "outputs": [],
   "source": [
    "brand_temporal = df.groupby(['GN_BRAND_ORIGINAL_NAME', 'ORDER_QUARTER']).agg({\n",
    "    'Is_Delayed': ['count', 'mean'],\n",
    "    'REG_Delay_Days': 'mean'\n",
    "}).round(3)"
   ]
  },
  {
   "cell_type": "code",
   "execution_count": null,
   "id": "bb618837-025d-4eb6-be74-bc7c23e04331",
   "metadata": {},
   "outputs": [],
   "source": [
    "print(\"Brand Performance by Quarter:\")\n",
    "for brand in df['GN_BRAND_ORIGINAL_NAME'].unique()[:3]:  # Top 3 brands\n",
    "    brand_data = brand_temporal.loc[brand]\n",
    "    brand_data.columns = ['Orders', 'Delay_Rate', 'Avg_Delay_Days']\n",
    "    print(f\"\\n{brand}:\")\n",
    "    print(brand_data)"
   ]
  },
  {
   "cell_type": "code",
   "execution_count": null,
   "id": "ca8b4ebb-6929-4882-9156-3dab8aa14b7b",
   "metadata": {},
   "outputs": [],
   "source": [
    "market_temporal = df.groupby(['CD_MARKET_CODE', 'ORDER_QUARTER']).agg({\n",
    "    'Is_Delayed': ['count', 'mean']\n",
    "}).round(3)"
   ]
  },
  {
   "cell_type": "code",
   "execution_count": null,
   "id": "80d1a95d-1602-423f-8597-7c8edc6ab687",
   "metadata": {},
   "outputs": [],
   "source": [
    "top_markets = df['CD_MARKET_CODE'].value_counts().head(3).index"
   ]
  },
  {
   "cell_type": "code",
   "execution_count": null,
   "id": "01c5d694-d6da-4003-a0f6-cff57922570f",
   "metadata": {},
   "outputs": [],
   "source": [
    "print(f\"\\nTop 3 Markets Quarterly Performance:\")\n",
    "for market in top_markets:\n",
    "    try:\n",
    "        market_data = market_temporal.loc[market]\n",
    "        market_data.columns = ['Orders', 'Delay_Rate']\n",
    "        print(f\"\\nMarket {market}:\")\n",
    "        print(market_data)\n",
    "    except KeyError:\n",
    "        continue"
   ]
  },
  {
   "cell_type": "code",
   "execution_count": null,
   "id": "1f7b4d2c-17ac-4789-ba88-717d5c9c99ee",
   "metadata": {},
   "outputs": [],
   "source": [
    "print(\"\\n\\n4. WEEKLY VOLUME PATTERNS\")\n",
    "print(\"=\" * 25)"
   ]
  },
  {
   "cell_type": "code",
   "execution_count": null,
   "id": "09111b5d-037c-487c-b7fc-9a4ef3d8151c",
   "metadata": {},
   "outputs": [],
   "source": [
    "df['ORDER_WEEK_DATE'] = df['DT_COMMERCIAL_ORDER_FIRST_ENTRY_DATE'].dt.to_period('W').dt.start_time"
   ]
  },
  {
   "cell_type": "code",
   "execution_count": null,
   "id": "1b451f96-c2c1-4518-856d-37a6e296e5c4",
   "metadata": {},
   "outputs": [],
   "source": [
    "weekly_volumes = df.groupby(['ORDER_WEEK_DATE', 'GN_BRAND_ORIGINAL_NAME']).agg({\n",
    "    'CD_COMMERCIAL_ORDER_CODE': 'count',\n",
    "    'Is_Delayed': 'mean'\n",
    "}).reset_index()"
   ]
  },
  {
   "cell_type": "code",
   "execution_count": null,
   "id": "7ab881f9-1c3f-47f6-aea2-7a7eeb2c440e",
   "metadata": {},
   "outputs": [],
   "source": [
    "weekly_volumes.columns = ['Week', 'Brand', 'Order_Count', 'Delay_Rate']"
   ]
  },
  {
   "cell_type": "code",
   "execution_count": null,
   "id": "772099cc-8ffa-4377-be73-036496051fcd",
   "metadata": {},
   "outputs": [],
   "source": [
    "print(\"Weekly Volume Statistics by Brand:\")\n",
    "weekly_summary = weekly_volumes.groupby('Brand').agg({\n",
    "    'Order_Count': ['mean', 'std', 'min', 'max'],\n",
    "    'Delay_Rate': 'mean'\n",
    "}).round(2)"
   ]
  },
  {
   "cell_type": "code",
   "execution_count": null,
   "id": "72004386-2ce3-49bb-b433-2c1e9cf5ebe8",
   "metadata": {},
   "outputs": [],
   "source": [
    "weekly_summary"
   ]
  },
  {
   "cell_type": "code",
   "execution_count": null,
   "id": "212e2973-6a2e-4c4e-9ad5-6529992dbc5a",
   "metadata": {},
   "outputs": [],
   "source": [
    "# 5. CORRELATION WITH EXTERNAL FACTORS\n",
    "print(\"\\n\\n5. EXTERNAL FACTORS CORRELATION\")\n",
    "print(\"=\" * 30)"
   ]
  },
  {
   "cell_type": "code",
   "execution_count": null,
   "id": "8487fa4a-c54e-440a-869e-7f453208b113",
   "metadata": {},
   "outputs": [],
   "source": [
    "intl_patterns = df.groupby(['International_Status', 'ORDER_QUARTER']).agg({\n",
    "    'Is_Delayed': 'mean',\n",
    "    'REG_Delay_Days': 'mean',\n",
    "    'SHIPPING_TRANSIT_DAYS': 'mean'\n",
    "}).round(3)"
   ]
  },
  {
   "cell_type": "code",
   "execution_count": null,
   "id": "aec9fd68-5d75-461b-a0ff-97106aef5298",
   "metadata": {},
   "outputs": [],
   "source": [
    "print(\"International vs Domestic Patterns by Quarter:\")\n",
    "intl_patterns"
   ]
  },
  {
   "cell_type": "code",
   "execution_count": null,
   "id": "4c8b13f6-15d1-426e-8c64-d87982cb00e6",
   "metadata": {},
   "outputs": [],
   "source": [
    "# Plant performance over time\n",
    "plant_temporal = df.groupby(['CD_PLANT_LOGISTIC_CODE', 'ORDER_QUARTER']).agg({\n",
    "    'Is_Delayed': ['count', 'mean'],\n",
    "    'ORDER_TO_PRODUCTION_DAYS': 'mean'\n",
    "}).round(3)"
   ]
  },
  {
   "cell_type": "code",
   "execution_count": null,
   "id": "b4b14705-91ab-464b-acbf-2283aa07007d",
   "metadata": {},
   "outputs": [],
   "source": [
    "top_plants = df['CD_PLANT_LOGISTIC_CODE'].value_counts().head(3).index\n",
    "print(f\"\\nTop 3 Plants Quarterly Performance:\")\n",
    "for plant in top_plants:\n",
    "    try:\n",
    "        plant_data = plant_temporal.loc[plant]\n",
    "        plant_data.columns = ['Orders', 'Delay_Rate', 'Avg_Production_Days']\n",
    "        print(f\"\\nPlant {plant}:\")\n",
    "        print(plant_data)\n",
    "    except KeyError:\n",
    "        continue"
   ]
  },
  {
   "cell_type": "code",
   "execution_count": null,
   "id": "d994022d-46df-4b80-8234-71d1a37e27b6",
   "metadata": {},
   "outputs": [],
   "source": [
    "# 6. KEY INSIGHTS SUMMARY\n",
    "print(\"\\n\\n6. KEY TEMPORAL INSIGHTS\")\n",
    "print(\"=\" * 25)\n"
   ]
  },
  {
   "cell_type": "code",
   "execution_count": null,
   "id": "28dcc6bb-5e09-4587-ac62-7665e2f7458b",
   "metadata": {},
   "outputs": [],
   "source": [
    "delay_trend = df.groupby(['ORDER_YEAR', 'ORDER_MONTH'])['Is_Delayed'].mean()\n",
    "recent_trend = delay_trend.tail(6)\n",
    "print(f\"Recent 6-month delay trend:\")\n",
    "print(recent_trend)"
   ]
  },
  {
   "cell_type": "code",
   "execution_count": null,
   "id": "1f0076b6-1161-4fe3-82ee-715f01d2e0fa",
   "metadata": {},
   "outputs": [],
   "source": [
    "# Volatility analysis\n",
    "monthly_volatility = df.groupby(['ORDER_YEAR', 'ORDER_MONTH']).agg({\n",
    "    'REG_Delay_Days': 'std',\n",
    "    'TOTAL_LEAD_VS_EXPECTED_DAYS': 'std'\n",
    "}).mean()"
   ]
  },
  {
   "cell_type": "code",
   "execution_count": null,
   "id": "cb5c723d-52e6-4e9a-9b0d-cf26b0af802d",
   "metadata": {},
   "outputs": [],
   "source": [
    "print(f\"\\nDelay Volatility (Monthly Std Dev):\")\n",
    "print(f\"Registration Delay Days: {monthly_volatility['REG_Delay_Days']:.2f}\")\n",
    "print(f\"Total Lead Time vs Expected: {monthly_volatility['TOTAL_LEAD_VS_EXPECTED_DAYS']:.2f}\")"
   ]
  },
  {
   "cell_type": "code",
   "execution_count": null,
   "id": "ef437ef9-c89c-48a1-9815-77b7fb3b283c",
   "metadata": {},
   "outputs": [],
   "source": [
    "missing_temporal = df.groupby(['ORDER_YEAR', 'ORDER_MONTH']).agg({\n",
    "    'MISSING_PRODUCTION_DATE_FLAG': 'mean',\n",
    "    'MISSING_READY_TO_SHIP': 'mean',\n",
    "    'MISSING_CUSTOMS_INBOUND': 'mean'\n",
    "}).round(3)"
   ]
  },
  {
   "cell_type": "code",
   "execution_count": null,
   "id": "de23382c-1e4e-4180-9d90-38d2547bf058",
   "metadata": {},
   "outputs": [],
   "source": [
    "print(f\"\\nMissing Data Patterns Over Time (last 3 months):\")\n",
    "missing_temporal.tail(3)"
   ]
  },
  {
   "cell_type": "code",
   "execution_count": null,
   "id": "5c928a0a-4b84-451d-bcdd-329dadee79c8",
   "metadata": {},
   "outputs": [],
   "source": [
    "print(\"\\n=== ANALYSIS COMPLETE ===\")\n",
    "print(\"\\nNext Steps:\")\n",
    "print(\"1. Create lag features (7, 14, 30 day rolling averages)\")\n",
    "print(\"2. Engineer seasonal decomposition features\")\n",
    "print(\"3. Build plant/brand-specific delay patterns\")\n",
    "print(\"4. Incorporate external data (weather, holidays)\")\n",
    "print(\"5. Develop time-aware train/validation splits\")"
   ]
  }
 ],
 "metadata": {
  "kernelspec": {
   "display_name": "Python 3",
   "language": "python",
   "name": "python3"
  },
  "language_info": {
   "codemirror_mode": {
    "name": "ipython",
    "version": 3
   },
   "file_extension": ".py",
   "mimetype": "text/x-python",
   "name": "python",
   "nbconvert_exporter": "python",
   "pygments_lexer": "ipython3",
   "version": "3.10.10"
  }
 },
 "nbformat": 4,
 "nbformat_minor": 5
}
